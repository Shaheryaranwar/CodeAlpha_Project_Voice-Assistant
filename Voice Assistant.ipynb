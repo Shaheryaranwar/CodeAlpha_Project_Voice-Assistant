{
 "cells": [
  {
   "cell_type": "code",
   "execution_count": 4,
   "id": "c7a9816e",
   "metadata": {
    "ExecuteTime": {
     "end_time": "2024-03-31T16:40:58.383760Z",
     "start_time": "2024-03-31T16:40:54.849971Z"
    },
    "scrolled": false
   },
   "outputs": [
    {
     "name": "stdout",
     "output_type": "stream",
     "text": [
      "Requirement already satisfied: SpeechRecognition in c:\\users\\allah\\anaconda3\\envs\\notebook\\lib\\site-packages (3.10.3)\n",
      "Requirement already satisfied: pyttsx3 in c:\\users\\allah\\anaconda3\\envs\\notebook\\lib\\site-packages (2.90)\n",
      "Requirement already satisfied: pyaudio in c:\\users\\allah\\anaconda3\\envs\\notebook\\lib\\site-packages (0.2.14)\n",
      "Requirement already satisfied: requests>=2.26.0 in c:\\users\\allah\\anaconda3\\envs\\notebook\\lib\\site-packages (from SpeechRecognition) (2.31.0)\n",
      "Requirement already satisfied: typing-extensions in c:\\users\\allah\\anaconda3\\envs\\notebook\\lib\\site-packages (from SpeechRecognition) (4.9.0)\n",
      "Requirement already satisfied: comtypes in c:\\users\\allah\\anaconda3\\envs\\notebook\\lib\\site-packages (from pyttsx3) (1.3.1)\n",
      "Requirement already satisfied: pypiwin32 in c:\\users\\allah\\anaconda3\\envs\\notebook\\lib\\site-packages (from pyttsx3) (223)\n",
      "Requirement already satisfied: pywin32 in c:\\users\\allah\\anaconda3\\envs\\notebook\\lib\\site-packages (from pyttsx3) (305.1)\n",
      "Requirement already satisfied: charset-normalizer<4,>=2 in c:\\users\\allah\\anaconda3\\envs\\notebook\\lib\\site-packages (from requests>=2.26.0->SpeechRecognition) (3.3.2)\n",
      "Requirement already satisfied: idna<4,>=2.5 in c:\\users\\allah\\anaconda3\\envs\\notebook\\lib\\site-packages (from requests>=2.26.0->SpeechRecognition) (3.6)\n",
      "Requirement already satisfied: urllib3<3,>=1.21.1 in c:\\users\\allah\\anaconda3\\envs\\notebook\\lib\\site-packages (from requests>=2.26.0->SpeechRecognition) (2.2.1)\n",
      "Requirement already satisfied: certifi>=2017.4.17 in c:\\users\\allah\\anaconda3\\envs\\notebook\\lib\\site-packages (from requests>=2.26.0->SpeechRecognition) (2024.2.2)\n",
      "Note: you may need to restart the kernel to use updated packages.\n"
     ]
    }
   ],
   "source": [
    "pip install SpeechRecognition pyttsx3 pyaudio\n"
   ]
  },
  {
   "cell_type": "code",
   "execution_count": 2,
   "id": "e7abcc51",
   "metadata": {
    "ExecuteTime": {
     "end_time": "2024-03-31T17:09:50.004567Z",
     "start_time": "2024-03-31T17:09:49.774309Z"
    }
   },
   "outputs": [],
   "source": [
    "import speech_recognition as sr\n",
    "import pyttsx3\n"
   ]
  },
  {
   "cell_type": "code",
   "execution_count": 3,
   "id": "b9df4067",
   "metadata": {
    "ExecuteTime": {
     "end_time": "2024-03-31T17:09:51.097972Z",
     "start_time": "2024-03-31T17:09:50.694194Z"
    }
   },
   "outputs": [],
   "source": [
    "recognizer = sr.Recognizer()\n",
    "engine = pyttsx3.init()"
   ]
  },
  {
   "cell_type": "code",
   "execution_count": null,
   "id": "1ead0d01",
   "metadata": {
    "ExecuteTime": {
     "start_time": "2024-03-31T17:09:51.563Z"
    }
   },
   "outputs": [
    {
     "name": "stdout",
     "output_type": "stream",
     "text": [
      "Listening...\n",
      "Recognizing...\n",
      "Listening...\n",
      "Recognizing...\n"
     ]
    }
   ],
   "source": [
    "def speak(text):\n",
    "    engine.say(text)\n",
    "    engine.runAndWait()\n",
    "\n",
    "def listen():\n",
    "    with sr.Microphone() as source:\n",
    "        print(\"Listening...\")\n",
    "        recognizer.adjust_for_ambient_noise(source)\n",
    "        audio = recognizer.listen(source)\n",
    "    \n",
    "    try:\n",
    "        print(\"Recognizing...\")\n",
    "        command = recognizer.recognize_google(audio)\n",
    "        return command.lower()\n",
    "    except sr.UnknownValueError:\n",
    "        return \"Sorry, I didn't catch that.\"\n",
    "    except sr.RequestError:\n",
    "        return \"Sorry, there was an error with the speech recognition service.\"\n",
    "\n",
    "def process_command(command):\n",
    "    if 'hello' in command:\n",
    "        speak(\"Hello! How can I assist you today?\")\n",
    "    elif 'goodbye' in command:\n",
    "        speak(\"Goodbye! Have a great day.\")\n",
    "    elif 'your name'in command:\n",
    "        speak(\"I am AplhaCode Voice Assiatant Agent \")\n",
    "\n",
    "    else:\n",
    "        speak(\"Sorry, I don't understand that command.\")\n",
    "\n",
    "# Main loop for voice assistant\n",
    "if __name__ == \"__main__\":\n",
    "    speak(\"Welcome! I'm your personal voice assistant.\")\n",
    "    \n",
    "    while True:\n",
    "        command = listen()\n",
    "        process_command(command)"
   ]
  },
  {
   "cell_type": "code",
   "execution_count": null,
   "id": "cf7a3cea",
   "metadata": {},
   "outputs": [],
   "source": []
  }
 ],
 "metadata": {
  "kernelspec": {
   "display_name": "Python 3 (ipykernel)",
   "language": "python",
   "name": "python3"
  },
  "language_info": {
   "codemirror_mode": {
    "name": "ipython",
    "version": 3
   },
   "file_extension": ".py",
   "mimetype": "text/x-python",
   "name": "python",
   "nbconvert_exporter": "python",
   "pygments_lexer": "ipython3",
   "version": "3.8.18"
  },
  "toc": {
   "base_numbering": 1,
   "nav_menu": {},
   "number_sections": true,
   "sideBar": true,
   "skip_h1_title": false,
   "title_cell": "Table of Contents",
   "title_sidebar": "Contents",
   "toc_cell": false,
   "toc_position": {},
   "toc_section_display": true,
   "toc_window_display": false
  },
  "varInspector": {
   "cols": {
    "lenName": 16,
    "lenType": 16,
    "lenVar": 40
   },
   "kernels_config": {
    "python": {
     "delete_cmd_postfix": "",
     "delete_cmd_prefix": "del ",
     "library": "var_list.py",
     "varRefreshCmd": "print(var_dic_list())"
    },
    "r": {
     "delete_cmd_postfix": ") ",
     "delete_cmd_prefix": "rm(",
     "library": "var_list.r",
     "varRefreshCmd": "cat(var_dic_list()) "
    }
   },
   "types_to_exclude": [
    "module",
    "function",
    "builtin_function_or_method",
    "instance",
    "_Feature"
   ],
   "window_display": false
  }
 },
 "nbformat": 4,
 "nbformat_minor": 5
}
